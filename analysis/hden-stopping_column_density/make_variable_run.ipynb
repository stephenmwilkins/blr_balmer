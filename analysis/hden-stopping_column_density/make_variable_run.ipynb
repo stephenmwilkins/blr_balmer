{
 "cells": [
  {
   "cell_type": "code",
   "execution_count": 1,
   "metadata": {},
   "outputs": [],
   "source": [
    "import numpy as np\n",
    "import os\n",
    "import shutil"
   ]
  },
  {
   "cell_type": "code",
   "execution_count": 4,
   "metadata": {},
   "outputs": [],
   "source": [
    "sed = '1'\n",
    "linelist = 'linelist'\n",
    "model = \"hden\"\n",
    "hdens = np.arange(1., 13., 1.)\n",
    "stopping_column_densities = np.arange(21., 25., 0.5)\n",
    "\n",
    "for hden in hdens:\n",
    "\n",
    "    model_name = f'hden:{hden}'\n",
    "\n",
    "    # create directory if it doesn't already exist\n",
    "    if not os.path.isdir(model_name):\n",
    "        os.mkdir(model_name)\n",
    "\n",
    "    # copy over sed\n",
    "    shutil.copyfile(f'{sed}.sed', f'{model_name}/1.sed')\n",
    "\n",
    "    # copy over linelist\n",
    "    shutil.copyfile(f'{linelist}.dat', f'{model_name}/linelist.dat')\n",
    "\n",
    "    run_commands = ['export CLOUDY_DATA_PATH=\"/Users/sw376/Dropbox/Research/software/cloudy/c23.01/data/:./\" \\n']\n",
    "\n",
    "    for i, stopping_column_density in enumerate(stopping_column_densities):\n",
    "\n",
    "        run_commands.append(f'/Users/sw376/Dropbox/Research/software/cloudy/c23.01/source/cloudy.exe -r {i+1} &\\n')\n",
    "\n",
    "        input = f\"\"\"table SED \"1.sed\" \n",
    "abundances \"solar_GASS10.abn\"\n",
    "ionization parameter = -1.0 log\n",
    "cosmic rays, background\n",
    "hden {hden} log\n",
    "iterate to convergence\n",
    "set temperature floor 100 linear\n",
    "stop temperature 500K\n",
    "stop column density {stopping_column_density}\n",
    "save overview  \"{i+1}.ovr\" last\n",
    "save last abundances \"{i+1}.abundances\"\n",
    "save last continuum \"{i+1}.cont\" units Angstroms\n",
    "save line list column absolute last units angstroms \"{i+1}.intrinsic_elin\" \"linelist.dat\"\n",
    "save line list emergent column absolute last units angstroms \"{i+1}.emergent_elin\" \"linelist.dat\"\n",
    "save last lines, array \"{i+1}.lines\" units Angstroms no clobber\n",
    "    \"\"\"\n",
    "\n",
    "        open(f'{model_name}/{i+1}.in', 'w').write(input)\n",
    "\n",
    "    open(f'{model_name}/run.sh', 'w').writelines(run_commands)"
   ]
  }
 ],
 "metadata": {
  "kernelspec": {
   "display_name": "venv",
   "language": "python",
   "name": "python3"
  },
  "language_info": {
   "codemirror_mode": {
    "name": "ipython",
    "version": 3
   },
   "file_extension": ".py",
   "mimetype": "text/x-python",
   "name": "python",
   "nbconvert_exporter": "python",
   "pygments_lexer": "ipython3",
   "version": "3.10.11"
  },
  "orig_nbformat": 4,
  "vscode": {
   "interpreter": {
    "hash": "e938d61f47c5c9dd7b15f1f2d4b11aa76631bd4d665eb8a6e9f2dd61871732a2"
   }
  }
 },
 "nbformat": 4,
 "nbformat_minor": 2
}
